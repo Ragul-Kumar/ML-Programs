{
 "cells": [
  {
   "cell_type": "code",
   "execution_count": 2,
   "id": "579ff78c",
   "metadata": {},
   "outputs": [],
   "source": [
    "import pandas as pd\n",
    "import numpy as np\n",
    "import matplotlib.pyplot as plt\n",
    "import seaborn as sns\n",
    "from sklearn.linear_model import LogisticRegression\n",
    "from sklearn.model_selection import train_test_split\n",
    "from sklearn.metrics import classification_report,confusion_matrix"
   ]
  },
  {
   "cell_type": "code",
   "execution_count": 5,
   "id": "7f80a8fb",
   "metadata": {},
   "outputs": [],
   "source": [
    "diabetes_data = pd.read_csv(\"../datasets/diabetes.csv\")\n",
    "X = diabetes_data.drop(\"Outcome\",axis=1)\n",
    "y = diabetes_data[\"Outcome\"]\n",
    "X_train, X_test, y_train, y_test = train_test_split(X,y, test_size = 0.3)"
   ]
  },
  {
   "cell_type": "code",
   "execution_count": 7,
   "id": "07d443c3",
   "metadata": {},
   "outputs": [],
   "source": [
    "model = LogisticRegression(solver='liblinear')\n",
    "model.fit(X_train,y_train)\n",
    "predictions = model.predict(X_test)"
   ]
  },
  {
   "cell_type": "code",
   "execution_count": 8,
   "id": "554efe03",
   "metadata": {},
   "outputs": [
    {
     "name": "stdout",
     "output_type": "stream",
     "text": [
      "************Classification Report************\n",
      "\n",
      "              precision    recall  f1-score   support\n",
      "\n",
      "           0       0.82      0.88      0.84       152\n",
      "           1       0.72      0.62      0.67        79\n",
      "\n",
      "    accuracy                           0.79       231\n",
      "   macro avg       0.77      0.75      0.76       231\n",
      "weighted avg       0.78      0.79      0.78       231\n",
      "\n",
      "***********Confusion Matrix***************\n",
      "[[133  19]\n",
      " [ 30  49]]\n"
     ]
    }
   ],
   "source": [
    "print(\"************Classification Report************\\n\")\n",
    "print(classification_report(y_test, predictions))\n",
    "print(\"***********Confusion Matrix***************\")\n",
    "print(confusion_matrix(y_test, predictions))\n"
   ]
  },
  {
   "cell_type": "code",
   "execution_count": null,
   "id": "8dbacb80",
   "metadata": {},
   "outputs": [],
   "source": []
  }
 ],
 "metadata": {
  "kernelspec": {
   "display_name": "Python 3 (ipykernel)",
   "language": "python",
   "name": "python3"
  },
  "language_info": {
   "codemirror_mode": {
    "name": "ipython",
    "version": 3
   },
   "file_extension": ".py",
   "mimetype": "text/x-python",
   "name": "python",
   "nbconvert_exporter": "python",
   "pygments_lexer": "ipython3",
   "version": "3.8.5"
  }
 },
 "nbformat": 4,
 "nbformat_minor": 5
}
